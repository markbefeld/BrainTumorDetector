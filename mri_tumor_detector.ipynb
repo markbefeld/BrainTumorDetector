{
 "cells": [
  {
   "cell_type": "markdown",
   "id": "2926ef92-3451-4a80-87b4-576b61593646",
   "metadata": {},
   "source": [
    "# Brain Tumor Detection: A Convolutional Neural Network Solution"
   ]
  },
  {
   "cell_type": "markdown",
   "id": "11ab35d7-d2ab-4029-b783-25156cbb2cda",
   "metadata": {},
   "source": [
    "## Imports"
   ]
  },
  {
   "cell_type": "code",
   "execution_count": 21,
   "id": "f5bacf87-6ab8-4d03-a285-2ad80cabc9f3",
   "metadata": {
    "tags": []
   },
   "outputs": [],
   "source": [
    "# imports\n",
    "import matplotlib.pyplot as plt\n",
    "import numpy as np\n",
    "import os\n",
    "import pandas as pd\n",
    "from tensorflow.keras.layers import Dense, Dropout, Flatten, Conv2D, MaxPooling2D\n",
    "from tensorflow.keras.models import Sequential\n",
    "from tensorflow.keras.preprocessing.image import img_to_array, load_img\n",
    "from tensorflow.keras.callbacks import EarlyStopping\n",
    "from sklearn.model_selection import train_test_split\n",
    "from keras.preprocessing.image import ImageDataGenerator, array_to_img\n",
    "from sklearn.metrics import confusion_matrix, ConfusionMatrixDisplay"
   ]
  },
  {
   "cell_type": "markdown",
   "id": "b3bea18b-9bd6-4b8f-a834-cce6492c5892",
   "metadata": {},
   "source": [
    "## Problem Statement"
   ]
  },
  {
   "cell_type": "markdown",
   "id": "38c182e9-9a09-425d-9143-d95e8c527537",
   "metadata": {},
   "source": [
    "Can a CNN be used to predict the presence of a brain tumor in MRI brain scans more accurately than a baseline score of 50%."
   ]
  },
  {
   "cell_type": "markdown",
   "id": "25dbe480-5c7c-4233-8456-01339fad9ac5",
   "metadata": {},
   "source": [
    "## Data Processing and EDA"
   ]
  },
  {
   "cell_type": "markdown",
   "id": "1beb3a7b-f599-41fa-93f9-2b5891fe49f0",
   "metadata": {},
   "source": [
    "Because this data is exclusively images, a visual inspection was done to ensure the integrity of the files. Other than that any files that were corrupt or unable to be parsed into 2d arrays would have thrown an exception in the following code."
   ]
  },
  {
   "cell_type": "code",
   "execution_count": 2,
   "id": "6d7bd0b6-c334-4c7d-be84-2d92dd550fcc",
   "metadata": {},
   "outputs": [
    {
     "name": "stdout",
     "output_type": "stream",
     "text": [
      "1500 pictures converted.\n"
     ]
    }
   ],
   "source": [
    "#Process Images for Tumors\n",
    "\n",
    "tumor_array = []\n",
    "\n",
    "tumor_path = 'Data/yes/'\n",
    "\n",
    "#Convert images into arrays\n",
    "for file in os.listdir(tumor_path):\n",
    "    try:\n",
    "#Resize all images for data homogeniety \n",
    "        tumor = load_img(tumor_path + file, target_size=(256, 256))\n",
    "        tumor_arr = img_to_array(tumor) / 255\n",
    "        tumor_array.append(tumor_arr)\n",
    "    except:\n",
    "        print(f'Error for file: {file}')\n",
    "\n",
    "print(f'{len(tumor_array)} pictures converted.')"
   ]
  },
  {
   "cell_type": "code",
   "execution_count": 3,
   "id": "0be89a40-1467-476a-9f38-2155f4ea0d32",
   "metadata": {},
   "outputs": [
    {
     "name": "stdout",
     "output_type": "stream",
     "text": [
      "1500 pictures converted.\n"
     ]
    }
   ],
   "source": [
    "#Process Images for Healthy\n",
    "\n",
    "healthy_array = []\n",
    "\n",
    "healthy_path = 'Data/no/'\n",
    "\n",
    "#Convert images into arrays\n",
    "for file in os.listdir(healthy_path):\n",
    "    try:\n",
    "#Resize all images for data homogeniety         \n",
    "        healthy = load_img(healthy_path + file, target_size=(256, 256))\n",
    "        healthy_arr = img_to_array(healthy) / 255\n",
    "        healthy_array.append(healthy_arr)\n",
    "    except:\n",
    "        print(f'Error for file: {file}')\n",
    "\n",
    "print(f'{len(healthy_array)} pictures converted.')\n"
   ]
  },
  {
   "cell_type": "code",
   "execution_count": 4,
   "id": "f8244875-f1c5-400e-afb8-36d565e2291a",
   "metadata": {},
   "outputs": [
    {
     "name": "stdout",
     "output_type": "stream",
     "text": [
      "X shape: (3000, 256, 256, 3)\n",
      "y shape: (3000,)\n"
     ]
    }
   ],
   "source": [
    "#create arrays of arrays to house binary classifications\n",
    "\n",
    "X = tumor_array + healthy_array\n",
    "\n",
    "X_arr = np.array(X)\n",
    "print(f'X shape: {X_arr.shape}')\n",
    "\n",
    "# 1 for healthy, 0 for tumor\n",
    "y = [1] * 1500 + [0] * 1500\n",
    "# convert to array and check shape\n",
    "y = np.array(y)\n",
    "print(f'y shape: {y.shape}')"
   ]
  },
  {
   "cell_type": "code",
   "execution_count": 5,
   "id": "b78897c6-a0bd-417b-aa12-8b8078c05ca0",
   "metadata": {},
   "outputs": [],
   "source": [
    "X_train, X_test, y_train, y_test = train_test_split(X, y, stratify=y)"
   ]
  },
  {
   "cell_type": "code",
   "execution_count": 6,
   "id": "cf24325a-dfb2-4024-858c-74b407160282",
   "metadata": {},
   "outputs": [],
   "source": [
    "X_train = np.array(X_train)"
   ]
  },
  {
   "cell_type": "code",
   "execution_count": 7,
   "id": "ae991bdc-6b48-4e76-b304-0bade8e023c4",
   "metadata": {},
   "outputs": [],
   "source": [
    "X_test = np.array(X_test)"
   ]
  },
  {
   "cell_type": "code",
   "execution_count": 8,
   "id": "d17273ee-70dd-41db-9ba7-36f0e5992265",
   "metadata": {},
   "outputs": [
    {
     "data": {
      "text/plain": [
       "(2250, 256, 256, 3)"
      ]
     },
     "execution_count": 8,
     "metadata": {},
     "output_type": "execute_result"
    }
   ],
   "source": [
    "X_train.shape"
   ]
  },
  {
   "cell_type": "code",
   "execution_count": 9,
   "id": "c776b870-21ac-4b62-a805-85dd681cc996",
   "metadata": {},
   "outputs": [
    {
     "data": {
      "text/plain": [
       "(2250,)"
      ]
     },
     "execution_count": 9,
     "metadata": {},
     "output_type": "execute_result"
    }
   ],
   "source": [
    "y_train.shape"
   ]
  },
  {
   "cell_type": "code",
   "execution_count": 10,
   "id": "cfb244d8-a239-4021-9d15-2d99f6197622",
   "metadata": {},
   "outputs": [
    {
     "data": {
      "text/plain": [
       "(750, 256, 256, 3)"
      ]
     },
     "execution_count": 10,
     "metadata": {},
     "output_type": "execute_result"
    }
   ],
   "source": [
    "X_test.shape"
   ]
  },
  {
   "cell_type": "code",
   "execution_count": 11,
   "id": "7ca74c2d-533e-4116-a811-3254a6518cbb",
   "metadata": {},
   "outputs": [
    {
     "data": {
      "text/plain": [
       "(750,)"
      ]
     },
     "execution_count": 11,
     "metadata": {},
     "output_type": "execute_result"
    }
   ],
   "source": [
    "y_test.shape"
   ]
  },
  {
   "cell_type": "markdown",
   "id": "1802c758-43a8-4317-a0a9-2e96f701f031",
   "metadata": {},
   "source": [
    "## Model Training and Validation"
   ]
  },
  {
   "cell_type": "code",
   "execution_count": 26,
   "id": "0ef62fa8-b353-4227-b02b-28b5d0a9fe4e",
   "metadata": {},
   "outputs": [],
   "source": [
    "#Creating a sequential Neural Net utilizing relu activation layers and a sigmoid output layer \n",
    "model = Sequential()\n",
    "\n",
    "model.add(Conv2D(64, (3,3), activation = 'relu', input_shape = (256, 256, 3)))\n",
    "model.add(MaxPooling2D(pool_size = (2,2)))\n",
    "\n",
    "# Add another:\n",
    "model.add(Conv2D(64, (3,3), activation = 'relu'))\n",
    "model.add(MaxPooling2D(pool_size = (2,2)))\n",
    "\n",
    "model.add(Flatten())\n",
    "model.add(Dense(64, activation='relu'))\n",
    "\n",
    "model.add(Dense(1, activation='sigmoid'))\n",
    "\n",
    "model.compile(optimizer=\"adam\",\n",
    "              loss='binary_crossentropy',\n",
    "              metrics=['accuracy'])\n",
    "#Callback\n",
    "early_stop = EarlyStopping(monitor= 'val_loss', min_delta = 0, patience = 5, verbose = 1, mode = 'auto')"
   ]
  },
  {
   "cell_type": "code",
   "execution_count": 27,
   "id": "2c7d8ec0-05c8-4b73-924b-e055a5a7f181",
   "metadata": {},
   "outputs": [
    {
     "name": "stdout",
     "output_type": "stream",
     "text": [
      "Epoch 1/20\n",
      "36/36 [==============================] - 96s 3s/step - loss: 0.6705 - accuracy: 0.7698 - val_loss: 0.3193 - val_accuracy: 0.8573\n",
      "Epoch 2/20\n",
      "36/36 [==============================] - 96s 3s/step - loss: 0.2029 - accuracy: 0.9280 - val_loss: 0.1682 - val_accuracy: 0.9413\n",
      "Epoch 3/20\n",
      "36/36 [==============================] - 96s 3s/step - loss: 0.0688 - accuracy: 0.9800 - val_loss: 0.0963 - val_accuracy: 0.9773\n",
      "Epoch 4/20\n",
      "36/36 [==============================] - 96s 3s/step - loss: 0.0244 - accuracy: 0.9951 - val_loss: 0.0896 - val_accuracy: 0.9787\n",
      "Epoch 5/20\n",
      "36/36 [==============================] - 96s 3s/step - loss: 0.0047 - accuracy: 0.9996 - val_loss: 0.1002 - val_accuracy: 0.9827\n",
      "Epoch 6/20\n",
      "36/36 [==============================] - 96s 3s/step - loss: 0.0020 - accuracy: 1.0000 - val_loss: 0.1107 - val_accuracy: 0.9813\n",
      "Epoch 7/20\n",
      "36/36 [==============================] - 96s 3s/step - loss: 5.6762e-04 - accuracy: 1.0000 - val_loss: 0.1203 - val_accuracy: 0.9813\n",
      "Epoch 8/20\n",
      "36/36 [==============================] - 96s 3s/step - loss: 3.4950e-04 - accuracy: 1.0000 - val_loss: 0.1232 - val_accuracy: 0.9800\n",
      "Epoch 9/20\n",
      "36/36 [==============================] - 96s 3s/step - loss: 2.4475e-04 - accuracy: 1.0000 - val_loss: 0.1213 - val_accuracy: 0.9827\n",
      "Epoch 00009: early stopping\n"
     ]
    }
   ],
   "source": [
    "h = model.fit(X_train, y_train, validation_data=(X_test, y_test), batch_size=64, epochs=20, callbacks=[early_stop])"
   ]
  },
  {
   "cell_type": "markdown",
   "id": "988ddb69-028d-4019-9c26-37474f1dd331",
   "metadata": {},
   "source": [
    "As you can see above, the validation accuracy far exceeds a baseline of .50"
   ]
  },
  {
   "cell_type": "code",
   "execution_count": 59,
   "id": "f4c1c3c0-c66b-466f-a2c8-22f3f3a7a635",
   "metadata": {
    "tags": []
   },
   "outputs": [
    {
     "name": "stdout",
     "output_type": "stream",
     "text": [
      "Model: \"sequential_2\"\n",
      "_________________________________________________________________\n",
      "Layer (type)                 Output Shape              Param #   \n",
      "=================================================================\n",
      "conv2d_4 (Conv2D)            (None, 254, 254, 64)      1792      \n",
      "_________________________________________________________________\n",
      "max_pooling2d_4 (MaxPooling2 (None, 127, 127, 64)      0         \n",
      "_________________________________________________________________\n",
      "conv2d_5 (Conv2D)            (None, 125, 125, 64)      36928     \n",
      "_________________________________________________________________\n",
      "max_pooling2d_5 (MaxPooling2 (None, 62, 62, 64)        0         \n",
      "_________________________________________________________________\n",
      "flatten_2 (Flatten)          (None, 246016)            0         \n",
      "_________________________________________________________________\n",
      "dense_4 (Dense)              (None, 64)                15745088  \n",
      "_________________________________________________________________\n",
      "dense_5 (Dense)              (None, 1)                 65        \n",
      "=================================================================\n",
      "Total params: 15,783,873\n",
      "Trainable params: 15,783,873\n",
      "Non-trainable params: 0\n",
      "_________________________________________________________________\n"
     ]
    }
   ],
   "source": [
    "model.summary()"
   ]
  },
  {
   "cell_type": "code",
   "execution_count": 28,
   "id": "9be87519-5cf6-439f-9f33-8eef339f0aef",
   "metadata": {},
   "outputs": [
    {
     "name": "stderr",
     "output_type": "stream",
     "text": [
      "C:\\Users\\marka\\anaconda3\\lib\\site-packages\\tensorflow\\python\\keras\\engine\\sequential.py:455: UserWarning: `model.predict_classes()` is deprecated and will be removed after 2021-01-01. Please use instead:* `np.argmax(model.predict(x), axis=-1)`,   if your model does multi-class classification   (e.g. if it uses a `softmax` last-layer activation).* `(model.predict(x) > 0.5).astype(\"int32\")`,   if your model does binary classification   (e.g. if it uses a `sigmoid` last-layer activation).\n",
      "  warnings.warn('`model.predict_classes()` is deprecated and '\n"
     ]
    },
    {
     "data": {
      "image/png": "[encoded data removed]",
      "text/plain": [
       "<Figure size 432x288 with 2 Axes>"
      ]
     },
     "metadata": {
      "needs_background": "light"
     },
     "output_type": "display_data"
    }
   ],
   "source": [
    "y_pred_class = model.predict_classes(X_test)\n",
    "\n",
    "# confusion matrix \n",
    "cm=confusion_matrix(y_test,y_pred_class)\n",
    "\n",
    "disp = ConfusionMatrixDisplay(confusion_matrix=cm)\n",
    "disp.plot();"
   ]
  },
  {
   "cell_type": "markdown",
   "id": "0f4fe714-a8ca-4f54-965d-344b1f8798b6",
   "metadata": {},
   "source": [
    "## Processing Prediction (For Use in Streamlit App)"
   ]
  },
  {
   "cell_type": "code",
   "execution_count": 72,
   "id": "d9a06e05-60af-4590-97fa-78faa7af8f92",
   "metadata": {},
   "outputs": [
    {
     "name": "stdout",
     "output_type": "stream",
     "text": [
      "60 pictures converted.\n"
     ]
    }
   ],
   "source": [
    "#Process Images for Preds\n",
    "\n",
    "pred_array = []\n",
    "\n",
    "pred_path = 'Data/pred/'\n",
    "\n",
    "#Convert images into arrays\n",
    "for file in os.listdir(pred_path):\n",
    "    try:\n",
    "#Resize all images for data homogeniety         \n",
    "        pred = load_img(pred_path + file, target_size=(256, 256))\n",
    "        pred_arr = img_to_array(pred) / 255\n",
    "        pred_array.append(pred_arr)\n",
    "    except:\n",
    "        print(f'Error for file: {file}')\n",
    "\n",
    "print(f'{len(pred_array)} pictures converted.')"
   ]
  },
  {
   "cell_type": "code",
   "execution_count": 76,
   "id": "a7046107-fd67-44e4-9afe-772539ab3506",
   "metadata": {},
   "outputs": [
    {
     "name": "stdout",
     "output_type": "stream",
     "text": [
      "(60, 256, 256, 3)\n"
     ]
    }
   ],
   "source": [
    "X = np.array(pred_array)\n",
    "print(X.shape)"
   ]
  },
  {
   "cell_type": "code",
   "execution_count": 77,
   "id": "bfc0b1ba-3b03-4baa-8604-81da89f71054",
   "metadata": {},
   "outputs": [
    {
     "name": "stderr",
     "output_type": "stream",
     "text": [
      "C:\\Users\\marka\\anaconda3\\lib\\site-packages\\tensorflow\\python\\keras\\engine\\sequential.py:455: UserWarning: `model.predict_classes()` is deprecated and will be removed after 2021-01-01. Please use instead:* `np.argmax(model.predict(x), axis=-1)`,   if your model does multi-class classification   (e.g. if it uses a `softmax` last-layer activation).* `(model.predict(x) > 0.5).astype(\"int32\")`,   if your model does binary classification   (e.g. if it uses a `sigmoid` last-layer activation).\n",
      "  warnings.warn('`model.predict_classes()` is deprecated and '\n"
     ]
    },
    {
     "data": {
      "text/plain": [
       "array([[0],\n",
       "       [0],\n",
       "       [1],\n",
       "       [1],\n",
       "       [0],\n",
       "       [1],\n",
       "       [1],\n",
       "       [0],\n",
       "       [1],\n",
       "       [0],\n",
       "       [0],\n",
       "       [0],\n",
       "       [1],\n",
       "       [0],\n",
       "       [0],\n",
       "       [0],\n",
       "       [1],\n",
       "       [0],\n",
       "       [0],\n",
       "       [1],\n",
       "       [1],\n",
       "       [1],\n",
       "       [0],\n",
       "       [0],\n",
       "       [1],\n",
       "       [0],\n",
       "       [0],\n",
       "       [1],\n",
       "       [1],\n",
       "       [0],\n",
       "       [0],\n",
       "       [0],\n",
       "       [0],\n",
       "       [1],\n",
       "       [0],\n",
       "       [0],\n",
       "       [0],\n",
       "       [0],\n",
       "       [0],\n",
       "       [0],\n",
       "       [1],\n",
       "       [0],\n",
       "       [0],\n",
       "       [0],\n",
       "       [0],\n",
       "       [1],\n",
       "       [0],\n",
       "       [0],\n",
       "       [0],\n",
       "       [0],\n",
       "       [0],\n",
       "       [1],\n",
       "       [1],\n",
       "       [0],\n",
       "       [0],\n",
       "       [0],\n",
       "       [1],\n",
       "       [1],\n",
       "       [0],\n",
       "       [1]])"
      ]
     },
     "execution_count": 77,
     "metadata": {},
     "output_type": "execute_result"
    }
   ],
   "source": [
    "model.predict_classes(X)"
   ]
  },
  {
   "cell_type": "markdown",
   "id": "2b82e257-3907-45a8-a09d-6ec33758fbd7",
   "metadata": {},
   "source": [
    "## Saving and Exporting Model"
   ]
  },
  {
   "cell_type": "code",
   "execution_count": 63,
   "id": "092ff8ca-406e-4557-ac13-3bedc71d59ef",
   "metadata": {},
   "outputs": [
    {
     "name": "stdout",
     "output_type": "stream",
     "text": [
      "INFO:tensorflow:Assets written to: saved_model/my_model\\assets\n"
     ]
    }
   ],
   "source": [
    "!mkdir -p saved_model\n",
    "model.save('saved_model/my_model')"
   ]
  }
 ],
 "metadata": {
  "kernelspec": {
   "display_name": "Python 3",
   "language": "python",
   "name": "python3"
  },
  "language_info": {
   "codemirror_mode": {
    "name": "ipython",
    "version": 3
   },
   "file_extension": ".py",
   "mimetype": "text/x-python",
   "name": "python",
   "nbconvert_exporter": "python",
   "pygments_lexer": "ipython3",
   "version": "3.8.8"
  }
 },
 "nbformat": 4,
 "nbformat_minor": 5
}
